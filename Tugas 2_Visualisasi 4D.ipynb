{
 "cells": [
  {
   "cell_type": "markdown",
   "id": "e1aca015",
   "metadata": {},
   "source": [
    "# Author :\n",
    "#### - Dimitri Aulia Rasyidin (1305210109)\n",
    "#### - Yaffazka Afazillah Wijaya (1305210076)"
   ]
  },
  {
   "cell_type": "markdown",
   "id": "a2b73bcc",
   "metadata": {},
   "source": [
    "# Import Library"
   ]
  },
  {
   "cell_type": "code",
   "execution_count": 22,
   "id": "d54462f9",
   "metadata": {},
   "outputs": [],
   "source": [
    "import warnings\n",
    "import numpy as np\n",
    "import pandas as pd \n",
    "import plotly.express as px\n",
    "import seaborn as sns\n",
    "import matplotlib.pyplot as plt\n",
    "from scipy import stats"
   ]
  },
  {
   "cell_type": "markdown",
   "id": "257cf60e",
   "metadata": {},
   "source": [
    "# Import Data"
   ]
  },
  {
   "cell_type": "code",
   "execution_count": 23,
   "id": "d3f44879",
   "metadata": {},
   "outputs": [
    {
     "data": {
      "text/html": [
       "<div>\n",
       "<style scoped>\n",
       "    .dataframe tbody tr th:only-of-type {\n",
       "        vertical-align: middle;\n",
       "    }\n",
       "\n",
       "    .dataframe tbody tr th {\n",
       "        vertical-align: top;\n",
       "    }\n",
       "\n",
       "    .dataframe thead th {\n",
       "        text-align: right;\n",
       "    }\n",
       "</style>\n",
       "<table border=\"1\" class=\"dataframe\">\n",
       "  <thead>\n",
       "    <tr style=\"text-align: right;\">\n",
       "      <th></th>\n",
       "      <th>Unnamed: 0</th>\n",
       "      <th>Country</th>\n",
       "      <th>Area</th>\n",
       "      <th>GDP</th>\n",
       "      <th>Life Expectancy</th>\n",
       "      <th>Population</th>\n",
       "      <th>Continent</th>\n",
       "    </tr>\n",
       "  </thead>\n",
       "  <tbody>\n",
       "    <tr>\n",
       "      <th>0</th>\n",
       "      <td>0</td>\n",
       "      <td>Japan</td>\n",
       "      <td>377,835</td>\n",
       "      <td>3745000000000</td>\n",
       "      <td>81.15</td>\n",
       "      <td>127417244.0</td>\n",
       "      <td>Asia</td>\n",
       "    </tr>\n",
       "    <tr>\n",
       "      <th>1</th>\n",
       "      <td>1</td>\n",
       "      <td>Germany</td>\n",
       "      <td>357,021</td>\n",
       "      <td>2362000000000</td>\n",
       "      <td>78.65</td>\n",
       "      <td>82431390.0</td>\n",
       "      <td>Europe</td>\n",
       "    </tr>\n",
       "    <tr>\n",
       "      <th>2</th>\n",
       "      <td>2</td>\n",
       "      <td>Saudi Arabia</td>\n",
       "      <td>1,960,582</td>\n",
       "      <td>310200000000</td>\n",
       "      <td>75.46</td>\n",
       "      <td>26417599.0</td>\n",
       "      <td>Asia</td>\n",
       "    </tr>\n",
       "    <tr>\n",
       "      <th>3</th>\n",
       "      <td>3</td>\n",
       "      <td>Russia</td>\n",
       "      <td>17,075,200</td>\n",
       "      <td>1408000000000</td>\n",
       "      <td>67.10</td>\n",
       "      <td>143420309.0</td>\n",
       "      <td>Europe</td>\n",
       "    </tr>\n",
       "    <tr>\n",
       "      <th>4</th>\n",
       "      <td>4</td>\n",
       "      <td>Switzerland</td>\n",
       "      <td>41,290</td>\n",
       "      <td>251900000000</td>\n",
       "      <td>80.39</td>\n",
       "      <td>7489370.0</td>\n",
       "      <td>Europe</td>\n",
       "    </tr>\n",
       "  </tbody>\n",
       "</table>\n",
       "</div>"
      ],
      "text/plain": [
       "   Unnamed: 0       Country        Area            GDP  Life Expectancy  \\\n",
       "0           0         Japan     377,835  3745000000000            81.15   \n",
       "1           1       Germany     357,021  2362000000000            78.65   \n",
       "2           2  Saudi Arabia   1,960,582   310200000000            75.46   \n",
       "3           3        Russia  17,075,200  1408000000000            67.10   \n",
       "4           4   Switzerland      41,290   251900000000            80.39   \n",
       "\n",
       "    Population Continent  \n",
       "0  127417244.0      Asia  \n",
       "1   82431390.0    Europe  \n",
       "2   26417599.0      Asia  \n",
       "3  143420309.0    Europe  \n",
       "4    7489370.0    Europe  "
      ]
     },
     "execution_count": 23,
     "metadata": {},
     "output_type": "execute_result"
    }
   ],
   "source": [
    "df = pd.read_excel('factbook-_1_.xlsx')\n",
    "df.head()"
   ]
  },
  {
   "cell_type": "markdown",
   "id": "4358f7a3",
   "metadata": {},
   "source": [
    "# Exploratory Data Analysis"
   ]
  },
  {
   "cell_type": "code",
   "execution_count": 24,
   "id": "a6aab9ea",
   "metadata": {},
   "outputs": [
    {
     "data": {
      "text/plain": [
       "Unnamed: 0           int64\n",
       "Country             object\n",
       "Area                object\n",
       "GDP                  int64\n",
       "Life Expectancy    float64\n",
       "Population         float64\n",
       "Continent           object\n",
       "dtype: object"
      ]
     },
     "execution_count": 24,
     "metadata": {},
     "output_type": "execute_result"
    }
   ],
   "source": [
    "df.dtypes"
   ]
  },
  {
   "cell_type": "code",
   "execution_count": 25,
   "id": "f1897bf7",
   "metadata": {},
   "outputs": [],
   "source": [
    "df['GDP'] = df['GDP'].astype(float)"
   ]
  },
  {
   "cell_type": "markdown",
   "id": "0f3c2ebf",
   "metadata": {},
   "source": [
    "# Visualization"
   ]
  },
  {
   "cell_type": "code",
   "execution_count": 21,
   "id": "2fec3d6d",
   "metadata": {},
   "outputs": [
    {
     "name": "stderr",
     "output_type": "stream",
     "text": [
      "/var/folders/8r/7fdxg2s16q53rn15qmfjyq840000gn/T/ipykernel_4158/4254925598.py:2: SettingWithCopyWarning:\n",
      "\n",
      "\n",
      "A value is trying to be set on a copy of a slice from a DataFrame\n",
      "\n",
      "See the caveats in the documentation: https://pandas.pydata.org/pandas-docs/stable/user_guide/indexing.html#returning-a-view-versus-a-copy\n",
      "\n"
     ]
    },
    {
     "data": {
      "application/vnd.plotly.v1+json": {
       "config": {
        "plotlyServerURL": "https://plot.ly"
       },
       "data": [
        {
         "hovertemplate": "<b>%{hovertext}</b><br><br>Continent=Asia<br>GDP=%{x}<br>Life Expectancy=%{y}<br>Population=%{marker.size}<extra></extra>",
         "hovertext": [
          "Japan",
          "Saudi Arabia",
          "China",
          "Korea South",
          "Taiwan",
          "Hong Kong",
          "Kuwait",
          "Malaysia",
          "Singapore",
          "Indonesia",
          "Thailand",
          "United Arab Emirates",
          "India",
          "Philippines",
          "Oman",
          "Iran",
          "Pakistan",
          "Syria",
          "Uzbekistan",
          "Yemen",
          "Bangladesh",
          "Israel",
          "Jordan",
          "Turkmenistan",
          "Kazakhstan",
          "Tajikistan",
          "Laos",
          "Kyrgyzstan",
          "Burma",
          "Armenia",
          "Cambodia",
          "Iraq",
          "Sri Lanka",
          "Georgia",
          "Vietnam",
          "Lebanon",
          "Azerbaijan"
         ],
         "legendgroup": "Asia",
         "marker": {
          "color": "#636efa",
          "size": [
           127417244,
           26417599,
           1306313812,
           48422644,
           22894384,
           6898686,
           2335648,
           23953136,
           4425720,
           241973879,
           65444371,
           2563212,
           1080264388,
           87857473,
           3001583,
           68017860,
           162419946,
           18448752,
           26851195,
           20727063,
           144319628,
           6276883,
           5759732,
           4952081,
           15185844,
           7163506,
           6217141,
           5146281,
           42909464,
           2982904,
           13607069,
           26074906,
           20064776,
           4677401,
           83535576,
           3826018,
           7911974
          ],
          "sizemode": "area",
          "sizeref": 522525.5248,
          "symbol": "circle"
         },
         "mode": "markers",
         "name": "Asia",
         "orientation": "v",
         "showlegend": true,
         "type": "scatter",
         "x": [
          3745000000000,
          310200000000,
          7262000000000,
          925100000000,
          576200000000,
          234500000000,
          48000000000,
          229300000000,
          120900000000,
          827400000000,
          524800000000,
          63670000000,
          3319000000000,
          430600000000,
          38090000000,
          516700000000,
          347300000000,
          60440000000,
          47590000000,
          16250000000,
          275700000000,
          129000000000,
          25500000000,
          27600000000,
          118400000000,
          7950000000,
          11280000000,
          8495000000,
          74300000000,
          13650000000,
          26990000000,
          89800000000,
          80580000000,
          14450000000,
          227200000000,
          18830000000,
          30010000000
         ],
         "xaxis": "x",
         "y": [
          81.15,
          75.46,
          72.27,
          75.82,
          77.26,
          81.39,
          77.03,
          72.24,
          81.62,
          69.57,
          71.57,
          75.24,
          64.35,
          69.91,
          73.13,
          69.96,
          63,
          70.03,
          64.19,
          61.75,
          62.08,
          79.32,
          78.24,
          61.39,
          66.55,
          64.56,
          55.08,
          68.16,
          56.22,
          71.55,
          58.87,
          68.7,
          73.17,
          75.88,
          70.61,
          72.63,
          63.35
         ],
         "yaxis": "y"
        },
        {
         "hovertemplate": "<b>%{hovertext}</b><br><br>Continent=Europe<br>GDP=%{x}<br>Life Expectancy=%{y}<br>Population=%{marker.size}<extra></extra>",
         "hovertext": [
          "Germany",
          "Russia",
          "Switzerland",
          "Norway",
          "Sweden",
          "Netherlands",
          "Belgium",
          "Finland",
          "Denmark",
          "Ukraine",
          "Bulgaria",
          "Slovenia",
          "Moldova",
          "France",
          "Macedonia",
          "Albania",
          "Belarus",
          "Estonia",
          "Latvia",
          "Slovakia",
          "Lithuania",
          "Croatia",
          "Bosnia and Herzegovina",
          "Ireland",
          "Serbia and Montenegro",
          "Austria",
          "Romania",
          "Poland",
          "Czech Republic",
          "Hungary",
          "Greece",
          "Portugal",
          "Turkey",
          "Italy",
          "Spain",
          "United Kingdom"
         ],
         "legendgroup": "Europe",
         "marker": {
          "color": "#EF553B",
          "size": [
           82431390,
           143420309,
           7489370,
           4593041,
           9001774,
           16407491,
           10364388,
           5223442,
           5432335,
           47425336,
           7450349,
           2011070,
           4455421,
           60656178,
           2045262,
           3563112,
           10300483,
           1332893,
           2290237,
           5431363,
           3596617,
           4495904,
           4025476,
           4015676,
           10829175,
           8184691,
           22329977,
           38635144,
           10241138,
           10006835,
           10668354,
           10566212,
           69660559,
           58103033,
           40341462,
           60441457
          ],
          "sizemode": "area",
          "sizeref": 522525.5248,
          "symbol": "circle"
         },
         "mode": "markers",
         "name": "Europe",
         "orientation": "v",
         "showlegend": true,
         "type": "scatter",
         "x": [
          2362000000000,
          1408000000000,
          251900000000,
          183000000000,
          255400000000,
          481100000000,
          316200000000,
          151200000000,
          174400000000,
          299100000000,
          61630000000,
          39410000000,
          8581000000,
          1737000000000,
          14400000000,
          17460000000,
          70500000000,
          19230000000,
          26530000000,
          78890000000,
          45230000000,
          50330000000,
          26210000000,
          126400000000,
          26270000000,
          255900000000,
          171500000000,
          463000000000,
          172200000000,
          149300000000,
          226400000000,
          188700000000,
          508700000000,
          1609000000000,
          937600000000,
          1782000000000
         ],
         "xaxis": "x",
         "y": [
          78.65,
          67.1,
          80.39,
          79.4,
          80.4,
          78.81,
          78.62,
          78.35,
          77.62,
          66.85,
          72.03,
          76.14,
          65.18,
          79.6,
          73.73,
          77.24,
          68.72,
          71.77,
          71.05,
          74.5,
          73.97,
          74.45,
          72.85,
          77.56,
          74.73,
          78.92,
          71.35,
          74.41,
          76.02,
          72.4,
          79.09,
          77.53,
          72.36,
          79.68,
          79.52,
          78.38
         ],
         "yaxis": "y"
        },
        {
         "hovertemplate": "<b>%{hovertext}</b><br><br>Continent=North America<br>GDP=%{x}<br>Life Expectancy=%{y}<br>Population=%{marker.size}<extra></extra>",
         "hovertext": [
          "Canada",
          "Trinidad and Tobago",
          "Dominican Republic",
          "Honduras",
          "United States"
         ],
         "legendgroup": "North America",
         "marker": {
          "color": "#00cc96",
          "size": [
           32805041,
           1088644,
           8950034,
           6975204,
           295734134
          ],
          "sizemode": "area",
          "sizeref": 522525.5248,
          "symbol": "circle"
         },
         "mode": "markers",
         "name": "North America",
         "orientation": "v",
         "showlegend": true,
         "type": "scatter",
         "x": [
          1023000000000,
          11480000000,
          55680000000,
          18790000000,
          11750000000000
         ],
         "xaxis": "x",
         "y": [
          80.1,
          68.91,
          67.26,
          65.6,
          77.71
         ],
         "yaxis": "y"
        },
        {
         "hovertemplate": "<b>%{hovertext}</b><br><br>Continent=South America<br>GDP=%{x}<br>Life Expectancy=%{y}<br>Population=%{marker.size}<extra></extra>",
         "hovertext": [
          "Venezuela",
          "Brazil",
          "Argentina",
          "Chile",
          "Bolivia",
          "Ecuador",
          "Uruguay"
         ],
         "legendgroup": "South America",
         "marker": {
          "color": "#ab63fa",
          "size": [
           25375281,
           186112794,
           39537943,
           15980912,
           8857870,
           13363593,
           3415920
          ],
          "sizemode": "area",
          "sizeref": 522525.5248,
          "symbol": "circle"
         },
         "mode": "markers",
         "name": "South America",
         "orientation": "v",
         "showlegend": true,
         "type": "scatter",
         "x": [
          145200000000,
          1492000000000,
          483500000000,
          169100000000,
          22330000000,
          49510000000,
          49270000000
         ],
         "xaxis": "x",
         "y": [
          74.31,
          71.69,
          75.91,
          76.58,
          65.5,
          76.21,
          76.13
         ],
         "yaxis": "y"
        },
        {
         "hovertemplate": "<b>%{hovertext}</b><br><br>Continent=Africa<br>GDP=%{x}<br>Life Expectancy=%{y}<br>Population=%{marker.size}<extra></extra>",
         "hovertext": [
          "Algeria",
          "Libya",
          "Nigeria",
          "Egypt",
          "Morocco",
          "Botswana",
          "Chad",
          "Mauritius",
          "Congo Republic of the",
          "Namibia",
          "Gabon",
          "Ghana",
          "Tunisia",
          "Gambia The",
          "Angola",
          "Malawi",
          "Burundi",
          "Swaziland",
          "Mozambique",
          "Lesotho",
          "Togo",
          "Eritrea",
          "Cameroon",
          "Benin",
          "Zambia",
          "Rwanda",
          "Zimbabwe",
          "Madagascar",
          "Guinea",
          "Tanzania",
          "Cote d'Ivoire",
          "Kenya",
          "Ethiopia",
          "Burkina Faso",
          "Senegal",
          "Uganda",
          "Sudan",
          "South Africa"
         ],
         "legendgroup": "Africa",
         "marker": {
          "color": "#FFA15A",
          "size": [
           32531853,
           5765563,
           128771988,
           77505756,
           32725847,
           1640115,
           9826419,
           1230602,
           3039126,
           2030692,
           1389201,
           21029853,
           10074951,
           1593256,
           11190786,
           12158924,
           6370609,
           1173900,
           19406703,
           1867035,
           5681519,
           4561599,
           16380005,
           7460025,
           11261795,
           8440820,
           12746990,
           18040341,
           9467866,
           36766356,
           17298040,
           33829590,
           73053286,
           13925313,
           11126832,
           27269482,
           40187486,
           44344136
          ],
          "sizemode": "area",
          "sizeref": 522525.5248,
          "symbol": "circle"
         },
         "mode": "markers",
         "name": "Africa",
         "orientation": "v",
         "showlegend": true,
         "type": "scatter",
         "x": [
          212300000000,
          37480000000,
          125700000000,
          316300000000,
          134600000000,
          15050000000,
          15660000000,
          15680000000,
          2324000000,
          14760000000,
          7966000000,
          48270000000,
          70880000000,
          2799000000,
          23170000000,
          7410000000,
          4001000000,
          6018000000,
          23380000000,
          5892000000,
          8684000000,
          4154000000,
          30170000000,
          8338000000,
          9409000000,
          10430000000,
          24370000000,
          14560000000,
          19500000000,
          23710000000,
          24780000000,
          34680000000,
          54890000000,
          15740000000,
          18360000000,
          39390000000,
          76190000000,
          491400000000
         ],
         "xaxis": "x",
         "y": [
          73,
          76.5,
          46.74,
          71,
          70.66,
          33.87,
          47.94,
          72.38,
          48.97,
          43.93,
          55.75,
          56,
          74.89,
          55.2,
          36.61,
          36.97,
          43.5,
          35.65,
          40.32,
          36.68,
          52.64,
          52.16,
          47.84,
          50.51,
          39.7,
          46.96,
          36.67,
          56.95,
          49.86,
          45.24,
          48.62,
          47.99,
          48.83,
          43.92,
          56.75,
          51.59,
          58.54,
          43.27
         ],
         "yaxis": "y"
        },
        {
         "hovertemplate": "<b>%{hovertext}</b><br><br>Continent=Oceania<br>GDP=%{x}<br>Life Expectancy=%{y}<br>Population=%{marker.size}<extra></extra>",
         "hovertext": [
          "Papua New Guinea",
          "New Zealand",
          "Australia"
         ],
         "legendgroup": "Oceania",
         "marker": {
          "color": "#19d3f3",
          "size": [
           5545268,
           4035461,
           20090437
          ],
          "sizemode": "area",
          "sizeref": 522525.5248,
          "symbol": "circle"
         },
         "mode": "markers",
         "name": "Oceania",
         "orientation": "v",
         "showlegend": true,
         "type": "scatter",
         "x": [
          11990000000,
          92510000000,
          611700000000
         ],
         "xaxis": "x",
         "y": [
          64.93,
          78.66,
          80.39
         ],
         "yaxis": "y"
        },
        {
         "hovertemplate": "<b>%{hovertext}</b><br><br>Continent=America<br>GDP=%{x}<br>Life Expectancy=%{y}<br>Population=%{marker.size}<extra></extra>",
         "hovertext": [
          "Haiti",
          "Peru",
          "Paraguay",
          "Cuba",
          "Panama",
          "Jamaica",
          "Nicaragua",
          "El Salvador",
          "Costa Rica",
          "Guatemala",
          "Colombia",
          "Mexico"
         ],
         "legendgroup": "America",
         "marker": {
          "color": "#FF6692",
          "size": [
           8121622,
           27925628,
           6347884,
           11346670,
           3039150,
           2731832,
           5465100,
           6704932,
           4016173,
           14655189,
           42954279,
           106202903
          ],
          "sizemode": "area",
          "sizeref": 522525.5248,
          "symbol": "circle"
         },
         "mode": "markers",
         "name": "America",
         "orientation": "v",
         "showlegend": true,
         "type": "scatter",
         "x": [
          12050000000,
          155300000000,
          29930000000,
          33920000000,
          20570000000,
          11130000000,
          12340000000,
          32350000000,
          37970000000,
          59470000000,
          281100000000,
          1006000000000
         ],
         "xaxis": "x",
         "y": [
          52.92,
          69.53,
          74.89,
          77.23,
          71.94,
          76.29,
          70.33,
          71.22,
          76.84,
          65.14,
          71.72,
          75.19
         ],
         "yaxis": "y"
        }
       ],
       "layout": {
        "height": 600,
        "legend": {
         "itemsizing": "constant",
         "title": {
          "text": "Continent"
         },
         "tracegroupgap": 0
        },
        "template": {
         "data": {
          "bar": [
           {
            "error_x": {
             "color": "#2a3f5f"
            },
            "error_y": {
             "color": "#2a3f5f"
            },
            "marker": {
             "line": {
              "color": "#E5ECF6",
              "width": 0.5
             },
             "pattern": {
              "fillmode": "overlay",
              "size": 10,
              "solidity": 0.2
             }
            },
            "type": "bar"
           }
          ],
          "barpolar": [
           {
            "marker": {
             "line": {
              "color": "#E5ECF6",
              "width": 0.5
             },
             "pattern": {
              "fillmode": "overlay",
              "size": 10,
              "solidity": 0.2
             }
            },
            "type": "barpolar"
           }
          ],
          "carpet": [
           {
            "aaxis": {
             "endlinecolor": "#2a3f5f",
             "gridcolor": "white",
             "linecolor": "white",
             "minorgridcolor": "white",
             "startlinecolor": "#2a3f5f"
            },
            "baxis": {
             "endlinecolor": "#2a3f5f",
             "gridcolor": "white",
             "linecolor": "white",
             "minorgridcolor": "white",
             "startlinecolor": "#2a3f5f"
            },
            "type": "carpet"
           }
          ],
          "choropleth": [
           {
            "colorbar": {
             "outlinewidth": 0,
             "ticks": ""
            },
            "type": "choropleth"
           }
          ],
          "contour": [
           {
            "colorbar": {
             "outlinewidth": 0,
             "ticks": ""
            },
            "colorscale": [
             [
              0,
              "#0d0887"
             ],
             [
              0.1111111111111111,
              "#46039f"
             ],
             [
              0.2222222222222222,
              "#7201a8"
             ],
             [
              0.3333333333333333,
              "#9c179e"
             ],
             [
              0.4444444444444444,
              "#bd3786"
             ],
             [
              0.5555555555555556,
              "#d8576b"
             ],
             [
              0.6666666666666666,
              "#ed7953"
             ],
             [
              0.7777777777777778,
              "#fb9f3a"
             ],
             [
              0.8888888888888888,
              "#fdca26"
             ],
             [
              1,
              "#f0f921"
             ]
            ],
            "type": "contour"
           }
          ],
          "contourcarpet": [
           {
            "colorbar": {
             "outlinewidth": 0,
             "ticks": ""
            },
            "type": "contourcarpet"
           }
          ],
          "heatmap": [
           {
            "colorbar": {
             "outlinewidth": 0,
             "ticks": ""
            },
            "colorscale": [
             [
              0,
              "#0d0887"
             ],
             [
              0.1111111111111111,
              "#46039f"
             ],
             [
              0.2222222222222222,
              "#7201a8"
             ],
             [
              0.3333333333333333,
              "#9c179e"
             ],
             [
              0.4444444444444444,
              "#bd3786"
             ],
             [
              0.5555555555555556,
              "#d8576b"
             ],
             [
              0.6666666666666666,
              "#ed7953"
             ],
             [
              0.7777777777777778,
              "#fb9f3a"
             ],
             [
              0.8888888888888888,
              "#fdca26"
             ],
             [
              1,
              "#f0f921"
             ]
            ],
            "type": "heatmap"
           }
          ],
          "heatmapgl": [
           {
            "colorbar": {
             "outlinewidth": 0,
             "ticks": ""
            },
            "colorscale": [
             [
              0,
              "#0d0887"
             ],
             [
              0.1111111111111111,
              "#46039f"
             ],
             [
              0.2222222222222222,
              "#7201a8"
             ],
             [
              0.3333333333333333,
              "#9c179e"
             ],
             [
              0.4444444444444444,
              "#bd3786"
             ],
             [
              0.5555555555555556,
              "#d8576b"
             ],
             [
              0.6666666666666666,
              "#ed7953"
             ],
             [
              0.7777777777777778,
              "#fb9f3a"
             ],
             [
              0.8888888888888888,
              "#fdca26"
             ],
             [
              1,
              "#f0f921"
             ]
            ],
            "type": "heatmapgl"
           }
          ],
          "histogram": [
           {
            "marker": {
             "pattern": {
              "fillmode": "overlay",
              "size": 10,
              "solidity": 0.2
             }
            },
            "type": "histogram"
           }
          ],
          "histogram2d": [
           {
            "colorbar": {
             "outlinewidth": 0,
             "ticks": ""
            },
            "colorscale": [
             [
              0,
              "#0d0887"
             ],
             [
              0.1111111111111111,
              "#46039f"
             ],
             [
              0.2222222222222222,
              "#7201a8"
             ],
             [
              0.3333333333333333,
              "#9c179e"
             ],
             [
              0.4444444444444444,
              "#bd3786"
             ],
             [
              0.5555555555555556,
              "#d8576b"
             ],
             [
              0.6666666666666666,
              "#ed7953"
             ],
             [
              0.7777777777777778,
              "#fb9f3a"
             ],
             [
              0.8888888888888888,
              "#fdca26"
             ],
             [
              1,
              "#f0f921"
             ]
            ],
            "type": "histogram2d"
           }
          ],
          "histogram2dcontour": [
           {
            "colorbar": {
             "outlinewidth": 0,
             "ticks": ""
            },
            "colorscale": [
             [
              0,
              "#0d0887"
             ],
             [
              0.1111111111111111,
              "#46039f"
             ],
             [
              0.2222222222222222,
              "#7201a8"
             ],
             [
              0.3333333333333333,
              "#9c179e"
             ],
             [
              0.4444444444444444,
              "#bd3786"
             ],
             [
              0.5555555555555556,
              "#d8576b"
             ],
             [
              0.6666666666666666,
              "#ed7953"
             ],
             [
              0.7777777777777778,
              "#fb9f3a"
             ],
             [
              0.8888888888888888,
              "#fdca26"
             ],
             [
              1,
              "#f0f921"
             ]
            ],
            "type": "histogram2dcontour"
           }
          ],
          "mesh3d": [
           {
            "colorbar": {
             "outlinewidth": 0,
             "ticks": ""
            },
            "type": "mesh3d"
           }
          ],
          "parcoords": [
           {
            "line": {
             "colorbar": {
              "outlinewidth": 0,
              "ticks": ""
             }
            },
            "type": "parcoords"
           }
          ],
          "pie": [
           {
            "automargin": true,
            "type": "pie"
           }
          ],
          "scatter": [
           {
            "marker": {
             "colorbar": {
              "outlinewidth": 0,
              "ticks": ""
             }
            },
            "type": "scatter"
           }
          ],
          "scatter3d": [
           {
            "line": {
             "colorbar": {
              "outlinewidth": 0,
              "ticks": ""
             }
            },
            "marker": {
             "colorbar": {
              "outlinewidth": 0,
              "ticks": ""
             }
            },
            "type": "scatter3d"
           }
          ],
          "scattercarpet": [
           {
            "marker": {
             "colorbar": {
              "outlinewidth": 0,
              "ticks": ""
             }
            },
            "type": "scattercarpet"
           }
          ],
          "scattergeo": [
           {
            "marker": {
             "colorbar": {
              "outlinewidth": 0,
              "ticks": ""
             }
            },
            "type": "scattergeo"
           }
          ],
          "scattergl": [
           {
            "marker": {
             "colorbar": {
              "outlinewidth": 0,
              "ticks": ""
             }
            },
            "type": "scattergl"
           }
          ],
          "scattermapbox": [
           {
            "marker": {
             "colorbar": {
              "outlinewidth": 0,
              "ticks": ""
             }
            },
            "type": "scattermapbox"
           }
          ],
          "scatterpolar": [
           {
            "marker": {
             "colorbar": {
              "outlinewidth": 0,
              "ticks": ""
             }
            },
            "type": "scatterpolar"
           }
          ],
          "scatterpolargl": [
           {
            "marker": {
             "colorbar": {
              "outlinewidth": 0,
              "ticks": ""
             }
            },
            "type": "scatterpolargl"
           }
          ],
          "scatterternary": [
           {
            "marker": {
             "colorbar": {
              "outlinewidth": 0,
              "ticks": ""
             }
            },
            "type": "scatterternary"
           }
          ],
          "surface": [
           {
            "colorbar": {
             "outlinewidth": 0,
             "ticks": ""
            },
            "colorscale": [
             [
              0,
              "#0d0887"
             ],
             [
              0.1111111111111111,
              "#46039f"
             ],
             [
              0.2222222222222222,
              "#7201a8"
             ],
             [
              0.3333333333333333,
              "#9c179e"
             ],
             [
              0.4444444444444444,
              "#bd3786"
             ],
             [
              0.5555555555555556,
              "#d8576b"
             ],
             [
              0.6666666666666666,
              "#ed7953"
             ],
             [
              0.7777777777777778,
              "#fb9f3a"
             ],
             [
              0.8888888888888888,
              "#fdca26"
             ],
             [
              1,
              "#f0f921"
             ]
            ],
            "type": "surface"
           }
          ],
          "table": [
           {
            "cells": {
             "fill": {
              "color": "#EBF0F8"
             },
             "line": {
              "color": "white"
             }
            },
            "header": {
             "fill": {
              "color": "#C8D4E3"
             },
             "line": {
              "color": "white"
             }
            },
            "type": "table"
           }
          ]
         },
         "layout": {
          "annotationdefaults": {
           "arrowcolor": "#2a3f5f",
           "arrowhead": 0,
           "arrowwidth": 1
          },
          "autotypenumbers": "strict",
          "coloraxis": {
           "colorbar": {
            "outlinewidth": 0,
            "ticks": ""
           }
          },
          "colorscale": {
           "diverging": [
            [
             0,
             "#8e0152"
            ],
            [
             0.1,
             "#c51b7d"
            ],
            [
             0.2,
             "#de77ae"
            ],
            [
             0.3,
             "#f1b6da"
            ],
            [
             0.4,
             "#fde0ef"
            ],
            [
             0.5,
             "#f7f7f7"
            ],
            [
             0.6,
             "#e6f5d0"
            ],
            [
             0.7,
             "#b8e186"
            ],
            [
             0.8,
             "#7fbc41"
            ],
            [
             0.9,
             "#4d9221"
            ],
            [
             1,
             "#276419"
            ]
           ],
           "sequential": [
            [
             0,
             "#0d0887"
            ],
            [
             0.1111111111111111,
             "#46039f"
            ],
            [
             0.2222222222222222,
             "#7201a8"
            ],
            [
             0.3333333333333333,
             "#9c179e"
            ],
            [
             0.4444444444444444,
             "#bd3786"
            ],
            [
             0.5555555555555556,
             "#d8576b"
            ],
            [
             0.6666666666666666,
             "#ed7953"
            ],
            [
             0.7777777777777778,
             "#fb9f3a"
            ],
            [
             0.8888888888888888,
             "#fdca26"
            ],
            [
             1,
             "#f0f921"
            ]
           ],
           "sequentialminus": [
            [
             0,
             "#0d0887"
            ],
            [
             0.1111111111111111,
             "#46039f"
            ],
            [
             0.2222222222222222,
             "#7201a8"
            ],
            [
             0.3333333333333333,
             "#9c179e"
            ],
            [
             0.4444444444444444,
             "#bd3786"
            ],
            [
             0.5555555555555556,
             "#d8576b"
            ],
            [
             0.6666666666666666,
             "#ed7953"
            ],
            [
             0.7777777777777778,
             "#fb9f3a"
            ],
            [
             0.8888888888888888,
             "#fdca26"
            ],
            [
             1,
             "#f0f921"
            ]
           ]
          },
          "colorway": [
           "#636efa",
           "#EF553B",
           "#00cc96",
           "#ab63fa",
           "#FFA15A",
           "#19d3f3",
           "#FF6692",
           "#B6E880",
           "#FF97FF",
           "#FECB52"
          ],
          "font": {
           "color": "#2a3f5f"
          },
          "geo": {
           "bgcolor": "white",
           "lakecolor": "white",
           "landcolor": "#E5ECF6",
           "showlakes": true,
           "showland": true,
           "subunitcolor": "white"
          },
          "hoverlabel": {
           "align": "left"
          },
          "hovermode": "closest",
          "mapbox": {
           "style": "light"
          },
          "paper_bgcolor": "white",
          "plot_bgcolor": "#E5ECF6",
          "polar": {
           "angularaxis": {
            "gridcolor": "white",
            "linecolor": "white",
            "ticks": ""
           },
           "bgcolor": "#E5ECF6",
           "radialaxis": {
            "gridcolor": "white",
            "linecolor": "white",
            "ticks": ""
           }
          },
          "scene": {
           "xaxis": {
            "backgroundcolor": "#E5ECF6",
            "gridcolor": "white",
            "gridwidth": 2,
            "linecolor": "white",
            "showbackground": true,
            "ticks": "",
            "zerolinecolor": "white"
           },
           "yaxis": {
            "backgroundcolor": "#E5ECF6",
            "gridcolor": "white",
            "gridwidth": 2,
            "linecolor": "white",
            "showbackground": true,
            "ticks": "",
            "zerolinecolor": "white"
           },
           "zaxis": {
            "backgroundcolor": "#E5ECF6",
            "gridcolor": "white",
            "gridwidth": 2,
            "linecolor": "white",
            "showbackground": true,
            "ticks": "",
            "zerolinecolor": "white"
           }
          },
          "shapedefaults": {
           "line": {
            "color": "#2a3f5f"
           }
          },
          "ternary": {
           "aaxis": {
            "gridcolor": "white",
            "linecolor": "white",
            "ticks": ""
           },
           "baxis": {
            "gridcolor": "white",
            "linecolor": "white",
            "ticks": ""
           },
           "bgcolor": "#E5ECF6",
           "caxis": {
            "gridcolor": "white",
            "linecolor": "white",
            "ticks": ""
           }
          },
          "title": {
           "x": 0.05
          },
          "xaxis": {
           "automargin": true,
           "gridcolor": "white",
           "linecolor": "white",
           "ticks": "",
           "title": {
            "standoff": 15
           },
           "zerolinecolor": "white",
           "zerolinewidth": 2
          },
          "yaxis": {
           "automargin": true,
           "gridcolor": "white",
           "linecolor": "white",
           "ticks": "",
           "title": {
            "standoff": 15
           },
           "zerolinecolor": "white",
           "zerolinewidth": 2
          }
         }
        },
        "title": {
         "text": "4D Visualization of Life and World Economics Condition"
        },
        "width": 800,
        "xaxis": {
         "anchor": "y",
         "domain": [
          0,
          1
         ],
         "title": {
          "text": "GDP"
         },
         "type": "log"
        },
        "yaxis": {
         "anchor": "x",
         "domain": [
          0,
          1
         ],
         "title": {
          "text": "Life Expectancy"
         }
        }
       }
      },
      "text/html": [
       "<div>                            <div id=\"dfa3ec43-ab46-4027-afad-968de4d9cde7\" class=\"plotly-graph-div\" style=\"height:600px; width:800px;\"></div>            <script type=\"text/javascript\">                require([\"plotly\"], function(Plotly) {                    window.PLOTLYENV=window.PLOTLYENV || {};                                    if (document.getElementById(\"dfa3ec43-ab46-4027-afad-968de4d9cde7\")) {                    Plotly.newPlot(                        \"dfa3ec43-ab46-4027-afad-968de4d9cde7\",                        [{\"hovertemplate\":\"<b>%{hovertext}</b><br><br>Continent=Asia<br>GDP=%{x}<br>Life Expectancy=%{y}<br>Population=%{marker.size}<extra></extra>\",\"hovertext\":[\"Japan\",\"Saudi Arabia\",\"China\",\"Korea South\",\"Taiwan\",\"Hong Kong\",\"Kuwait\",\"Malaysia\",\"Singapore\",\"Indonesia\",\"Thailand\",\"United Arab Emirates\",\"India\",\"Philippines\",\"Oman\",\"Iran\",\"Pakistan\",\"Syria\",\"Uzbekistan\",\"Yemen\",\"Bangladesh\",\"Israel\",\"Jordan\",\"Turkmenistan\",\"Kazakhstan\",\"Tajikistan\",\"Laos\",\"Kyrgyzstan\",\"Burma\",\"Armenia\",\"Cambodia\",\"Iraq\",\"Sri Lanka\",\"Georgia\",\"Vietnam\",\"Lebanon\",\"Azerbaijan\"],\"legendgroup\":\"Asia\",\"marker\":{\"color\":\"#636efa\",\"size\":[127417244.0,26417599.0,1306313812.0,48422644.0,22894384.0,6898686.0,2335648.0,23953136.0,4425720.0,241973879.0,65444371.0,2563212.0,1080264388.0,87857473.0,3001583.0,68017860.0,162419946.0,18448752.0,26851195.0,20727063.0,144319628.0,6276883.0,5759732.0,4952081.0,15185844.0,7163506.0,6217141.0,5146281.0,42909464.0,2982904.0,13607069.0,26074906.0,20064776.0,4677401.0,83535576.0,3826018.0,7911974.0],\"sizemode\":\"area\",\"sizeref\":522525.5248,\"symbol\":\"circle\"},\"mode\":\"markers\",\"name\":\"Asia\",\"orientation\":\"v\",\"showlegend\":true,\"x\":[3745000000000.0,310200000000.0,7262000000000.0,925100000000.0,576200000000.0,234500000000.0,48000000000.0,229300000000.0,120900000000.0,827400000000.0,524800000000.0,63670000000.0,3319000000000.0,430600000000.0,38090000000.0,516700000000.0,347300000000.0,60440000000.0,47590000000.0,16250000000.0,275700000000.0,129000000000.0,25500000000.0,27600000000.0,118400000000.0,7950000000.0,11280000000.0,8495000000.0,74300000000.0,13650000000.0,26990000000.0,89800000000.0,80580000000.0,14450000000.0,227200000000.0,18830000000.0,30010000000.0],\"xaxis\":\"x\",\"y\":[81.15,75.46,72.27,75.82,77.26,81.39,77.03,72.24,81.62,69.57,71.57,75.24,64.35,69.91,73.13,69.96,63.0,70.03,64.19,61.75,62.08,79.32,78.24,61.39,66.55,64.56,55.08,68.16,56.22,71.55,58.87,68.7,73.17,75.88,70.61,72.63,63.35],\"yaxis\":\"y\",\"type\":\"scatter\"},{\"hovertemplate\":\"<b>%{hovertext}</b><br><br>Continent=Europe<br>GDP=%{x}<br>Life Expectancy=%{y}<br>Population=%{marker.size}<extra></extra>\",\"hovertext\":[\"Germany\",\"Russia\",\"Switzerland\",\"Norway\",\"Sweden\",\"Netherlands\",\"Belgium\",\"Finland\",\"Denmark\",\"Ukraine\",\"Bulgaria\",\"Slovenia\",\"Moldova\",\"France\",\"Macedonia\",\"Albania\",\"Belarus\",\"Estonia\",\"Latvia\",\"Slovakia\",\"Lithuania\",\"Croatia\",\"Bosnia and Herzegovina\",\"Ireland\",\"Serbia and Montenegro\",\"Austria\",\"Romania\",\"Poland\",\"Czech Republic\",\"Hungary\",\"Greece\",\"Portugal\",\"Turkey\",\"Italy\",\"Spain\",\"United Kingdom\"],\"legendgroup\":\"Europe\",\"marker\":{\"color\":\"#EF553B\",\"size\":[82431390.0,143420309.0,7489370.0,4593041.0,9001774.0,16407491.0,10364388.0,5223442.0,5432335.0,47425336.0,7450349.0,2011070.0,4455421.0,60656178.0,2045262.0,3563112.0,10300483.0,1332893.0,2290237.0,5431363.0,3596617.0,4495904.0,4025476.0,4015676.0,10829175.0,8184691.0,22329977.0,38635144.0,10241138.0,10006835.0,10668354.0,10566212.0,69660559.0,58103033.0,40341462.0,60441457.0],\"sizemode\":\"area\",\"sizeref\":522525.5248,\"symbol\":\"circle\"},\"mode\":\"markers\",\"name\":\"Europe\",\"orientation\":\"v\",\"showlegend\":true,\"x\":[2362000000000.0,1408000000000.0,251900000000.0,183000000000.0,255400000000.0,481100000000.0,316200000000.0,151200000000.0,174400000000.0,299100000000.0,61630000000.0,39410000000.0,8581000000.0,1737000000000.0,14400000000.0,17460000000.0,70500000000.0,19230000000.0,26530000000.0,78890000000.0,45230000000.0,50330000000.0,26210000000.0,126400000000.0,26270000000.0,255900000000.0,171500000000.0,463000000000.0,172200000000.0,149300000000.0,226400000000.0,188700000000.0,508700000000.0,1609000000000.0,937600000000.0,1782000000000.0],\"xaxis\":\"x\",\"y\":[78.65,67.1,80.39,79.4,80.4,78.81,78.62,78.35,77.62,66.85,72.03,76.14,65.18,79.6,73.73,77.24,68.72,71.77,71.05,74.5,73.97,74.45,72.85,77.56,74.73,78.92,71.35,74.41,76.02,72.4,79.09,77.53,72.36,79.68,79.52,78.38],\"yaxis\":\"y\",\"type\":\"scatter\"},{\"hovertemplate\":\"<b>%{hovertext}</b><br><br>Continent=North America<br>GDP=%{x}<br>Life Expectancy=%{y}<br>Population=%{marker.size}<extra></extra>\",\"hovertext\":[\"Canada\",\"Trinidad and Tobago\",\"Dominican Republic\",\"Honduras\",\"United States\"],\"legendgroup\":\"North America\",\"marker\":{\"color\":\"#00cc96\",\"size\":[32805041.0,1088644.0,8950034.0,6975204.0,295734134.0],\"sizemode\":\"area\",\"sizeref\":522525.5248,\"symbol\":\"circle\"},\"mode\":\"markers\",\"name\":\"North America\",\"orientation\":\"v\",\"showlegend\":true,\"x\":[1023000000000.0,11480000000.0,55680000000.0,18790000000.0,11750000000000.0],\"xaxis\":\"x\",\"y\":[80.1,68.91,67.26,65.6,77.71],\"yaxis\":\"y\",\"type\":\"scatter\"},{\"hovertemplate\":\"<b>%{hovertext}</b><br><br>Continent=South America<br>GDP=%{x}<br>Life Expectancy=%{y}<br>Population=%{marker.size}<extra></extra>\",\"hovertext\":[\"Venezuela\",\"Brazil\",\"Argentina\",\"Chile\",\"Bolivia\",\"Ecuador\",\"Uruguay\"],\"legendgroup\":\"South America\",\"marker\":{\"color\":\"#ab63fa\",\"size\":[25375281.0,186112794.0,39537943.0,15980912.0,8857870.0,13363593.0,3415920.0],\"sizemode\":\"area\",\"sizeref\":522525.5248,\"symbol\":\"circle\"},\"mode\":\"markers\",\"name\":\"South America\",\"orientation\":\"v\",\"showlegend\":true,\"x\":[145200000000.0,1492000000000.0,483500000000.0,169100000000.0,22330000000.0,49510000000.0,49270000000.0],\"xaxis\":\"x\",\"y\":[74.31,71.69,75.91,76.58,65.5,76.21,76.13],\"yaxis\":\"y\",\"type\":\"scatter\"},{\"hovertemplate\":\"<b>%{hovertext}</b><br><br>Continent=Africa<br>GDP=%{x}<br>Life Expectancy=%{y}<br>Population=%{marker.size}<extra></extra>\",\"hovertext\":[\"Algeria\",\"Libya\",\"Nigeria\",\"Egypt\",\"Morocco\",\"Botswana\",\"Chad\",\"Mauritius\",\"Congo Republic of the\",\"Namibia\",\"Gabon\",\"Ghana\",\"Tunisia\",\"Gambia The\",\"Angola\",\"Malawi\",\"Burundi\",\"Swaziland\",\"Mozambique\",\"Lesotho\",\"Togo\",\"Eritrea\",\"Cameroon\",\"Benin\",\"Zambia\",\"Rwanda\",\"Zimbabwe\",\"Madagascar\",\"Guinea\",\"Tanzania\",\"Cote d'Ivoire\",\"Kenya\",\"Ethiopia\",\"Burkina Faso\",\"Senegal\",\"Uganda\",\"Sudan\",\"South Africa\"],\"legendgroup\":\"Africa\",\"marker\":{\"color\":\"#FFA15A\",\"size\":[32531853.0,5765563.0,128771988.0,77505756.0,32725847.0,1640115.0,9826419.0,1230602.0,3039126.0,2030692.0,1389201.0,21029853.0,10074951.0,1593256.0,11190786.0,12158924.0,6370609.0,1173900.0,19406703.0,1867035.0,5681519.0,4561599.0,16380005.0,7460025.0,11261795.0,8440820.0,12746990.0,18040341.0,9467866.0,36766356.0,17298040.0,33829590.0,73053286.0,13925313.0,11126832.0,27269482.0,40187486.0,44344136.0],\"sizemode\":\"area\",\"sizeref\":522525.5248,\"symbol\":\"circle\"},\"mode\":\"markers\",\"name\":\"Africa\",\"orientation\":\"v\",\"showlegend\":true,\"x\":[212300000000.0,37480000000.0,125700000000.0,316300000000.0,134600000000.0,15050000000.0,15660000000.0,15680000000.0,2324000000.0,14760000000.0,7966000000.0,48270000000.0,70880000000.0,2799000000.0,23170000000.0,7410000000.0,4001000000.0,6018000000.0,23380000000.0,5892000000.0,8684000000.0,4154000000.0,30170000000.0,8338000000.0,9409000000.0,10430000000.0,24370000000.0,14560000000.0,19500000000.0,23710000000.0,24780000000.0,34680000000.0,54890000000.0,15740000000.0,18360000000.0,39390000000.0,76190000000.0,491400000000.0],\"xaxis\":\"x\",\"y\":[73.0,76.5,46.74,71.0,70.66,33.87,47.94,72.38,48.97,43.93,55.75,56.0,74.89,55.2,36.61,36.97,43.5,35.65,40.32,36.68,52.64,52.16,47.84,50.51,39.7,46.96,36.67,56.95,49.86,45.24,48.62,47.99,48.83,43.92,56.75,51.59,58.54,43.27],\"yaxis\":\"y\",\"type\":\"scatter\"},{\"hovertemplate\":\"<b>%{hovertext}</b><br><br>Continent=Oceania<br>GDP=%{x}<br>Life Expectancy=%{y}<br>Population=%{marker.size}<extra></extra>\",\"hovertext\":[\"Papua New Guinea\",\"New Zealand\",\"Australia\"],\"legendgroup\":\"Oceania\",\"marker\":{\"color\":\"#19d3f3\",\"size\":[5545268.0,4035461.0,20090437.0],\"sizemode\":\"area\",\"sizeref\":522525.5248,\"symbol\":\"circle\"},\"mode\":\"markers\",\"name\":\"Oceania\",\"orientation\":\"v\",\"showlegend\":true,\"x\":[11990000000.0,92510000000.0,611700000000.0],\"xaxis\":\"x\",\"y\":[64.93,78.66,80.39],\"yaxis\":\"y\",\"type\":\"scatter\"},{\"hovertemplate\":\"<b>%{hovertext}</b><br><br>Continent=America<br>GDP=%{x}<br>Life Expectancy=%{y}<br>Population=%{marker.size}<extra></extra>\",\"hovertext\":[\"Haiti\",\"Peru\",\"Paraguay\",\"Cuba\",\"Panama\",\"Jamaica\",\"Nicaragua\",\"El Salvador\",\"Costa Rica\",\"Guatemala\",\"Colombia\",\"Mexico\"],\"legendgroup\":\"America\",\"marker\":{\"color\":\"#FF6692\",\"size\":[8121622.0,27925628.0,6347884.0,11346670.0,3039150.0,2731832.0,5465100.0,6704932.0,4016173.0,14655189.0,42954279.0,106202903.0],\"sizemode\":\"area\",\"sizeref\":522525.5248,\"symbol\":\"circle\"},\"mode\":\"markers\",\"name\":\"America\",\"orientation\":\"v\",\"showlegend\":true,\"x\":[12050000000.0,155300000000.0,29930000000.0,33920000000.0,20570000000.0,11130000000.0,12340000000.0,32350000000.0,37970000000.0,59470000000.0,281100000000.0,1006000000000.0],\"xaxis\":\"x\",\"y\":[52.92,69.53,74.89,77.23,71.94,76.29,70.33,71.22,76.84,65.14,71.72,75.19],\"yaxis\":\"y\",\"type\":\"scatter\"}],                        {\"template\":{\"data\":{\"bar\":[{\"error_x\":{\"color\":\"#2a3f5f\"},\"error_y\":{\"color\":\"#2a3f5f\"},\"marker\":{\"line\":{\"color\":\"#E5ECF6\",\"width\":0.5},\"pattern\":{\"fillmode\":\"overlay\",\"size\":10,\"solidity\":0.2}},\"type\":\"bar\"}],\"barpolar\":[{\"marker\":{\"line\":{\"color\":\"#E5ECF6\",\"width\":0.5},\"pattern\":{\"fillmode\":\"overlay\",\"size\":10,\"solidity\":0.2}},\"type\":\"barpolar\"}],\"carpet\":[{\"aaxis\":{\"endlinecolor\":\"#2a3f5f\",\"gridcolor\":\"white\",\"linecolor\":\"white\",\"minorgridcolor\":\"white\",\"startlinecolor\":\"#2a3f5f\"},\"baxis\":{\"endlinecolor\":\"#2a3f5f\",\"gridcolor\":\"white\",\"linecolor\":\"white\",\"minorgridcolor\":\"white\",\"startlinecolor\":\"#2a3f5f\"},\"type\":\"carpet\"}],\"choropleth\":[{\"colorbar\":{\"outlinewidth\":0,\"ticks\":\"\"},\"type\":\"choropleth\"}],\"contour\":[{\"colorbar\":{\"outlinewidth\":0,\"ticks\":\"\"},\"colorscale\":[[0.0,\"#0d0887\"],[0.1111111111111111,\"#46039f\"],[0.2222222222222222,\"#7201a8\"],[0.3333333333333333,\"#9c179e\"],[0.4444444444444444,\"#bd3786\"],[0.5555555555555556,\"#d8576b\"],[0.6666666666666666,\"#ed7953\"],[0.7777777777777778,\"#fb9f3a\"],[0.8888888888888888,\"#fdca26\"],[1.0,\"#f0f921\"]],\"type\":\"contour\"}],\"contourcarpet\":[{\"colorbar\":{\"outlinewidth\":0,\"ticks\":\"\"},\"type\":\"contourcarpet\"}],\"heatmap\":[{\"colorbar\":{\"outlinewidth\":0,\"ticks\":\"\"},\"colorscale\":[[0.0,\"#0d0887\"],[0.1111111111111111,\"#46039f\"],[0.2222222222222222,\"#7201a8\"],[0.3333333333333333,\"#9c179e\"],[0.4444444444444444,\"#bd3786\"],[0.5555555555555556,\"#d8576b\"],[0.6666666666666666,\"#ed7953\"],[0.7777777777777778,\"#fb9f3a\"],[0.8888888888888888,\"#fdca26\"],[1.0,\"#f0f921\"]],\"type\":\"heatmap\"}],\"heatmapgl\":[{\"colorbar\":{\"outlinewidth\":0,\"ticks\":\"\"},\"colorscale\":[[0.0,\"#0d0887\"],[0.1111111111111111,\"#46039f\"],[0.2222222222222222,\"#7201a8\"],[0.3333333333333333,\"#9c179e\"],[0.4444444444444444,\"#bd3786\"],[0.5555555555555556,\"#d8576b\"],[0.6666666666666666,\"#ed7953\"],[0.7777777777777778,\"#fb9f3a\"],[0.8888888888888888,\"#fdca26\"],[1.0,\"#f0f921\"]],\"type\":\"heatmapgl\"}],\"histogram\":[{\"marker\":{\"pattern\":{\"fillmode\":\"overlay\",\"size\":10,\"solidity\":0.2}},\"type\":\"histogram\"}],\"histogram2d\":[{\"colorbar\":{\"outlinewidth\":0,\"ticks\":\"\"},\"colorscale\":[[0.0,\"#0d0887\"],[0.1111111111111111,\"#46039f\"],[0.2222222222222222,\"#7201a8\"],[0.3333333333333333,\"#9c179e\"],[0.4444444444444444,\"#bd3786\"],[0.5555555555555556,\"#d8576b\"],[0.6666666666666666,\"#ed7953\"],[0.7777777777777778,\"#fb9f3a\"],[0.8888888888888888,\"#fdca26\"],[1.0,\"#f0f921\"]],\"type\":\"histogram2d\"}],\"histogram2dcontour\":[{\"colorbar\":{\"outlinewidth\":0,\"ticks\":\"\"},\"colorscale\":[[0.0,\"#0d0887\"],[0.1111111111111111,\"#46039f\"],[0.2222222222222222,\"#7201a8\"],[0.3333333333333333,\"#9c179e\"],[0.4444444444444444,\"#bd3786\"],[0.5555555555555556,\"#d8576b\"],[0.6666666666666666,\"#ed7953\"],[0.7777777777777778,\"#fb9f3a\"],[0.8888888888888888,\"#fdca26\"],[1.0,\"#f0f921\"]],\"type\":\"histogram2dcontour\"}],\"mesh3d\":[{\"colorbar\":{\"outlinewidth\":0,\"ticks\":\"\"},\"type\":\"mesh3d\"}],\"parcoords\":[{\"line\":{\"colorbar\":{\"outlinewidth\":0,\"ticks\":\"\"}},\"type\":\"parcoords\"}],\"pie\":[{\"automargin\":true,\"type\":\"pie\"}],\"scatter\":[{\"marker\":{\"colorbar\":{\"outlinewidth\":0,\"ticks\":\"\"}},\"type\":\"scatter\"}],\"scatter3d\":[{\"line\":{\"colorbar\":{\"outlinewidth\":0,\"ticks\":\"\"}},\"marker\":{\"colorbar\":{\"outlinewidth\":0,\"ticks\":\"\"}},\"type\":\"scatter3d\"}],\"scattercarpet\":[{\"marker\":{\"colorbar\":{\"outlinewidth\":0,\"ticks\":\"\"}},\"type\":\"scattercarpet\"}],\"scattergeo\":[{\"marker\":{\"colorbar\":{\"outlinewidth\":0,\"ticks\":\"\"}},\"type\":\"scattergeo\"}],\"scattergl\":[{\"marker\":{\"colorbar\":{\"outlinewidth\":0,\"ticks\":\"\"}},\"type\":\"scattergl\"}],\"scattermapbox\":[{\"marker\":{\"colorbar\":{\"outlinewidth\":0,\"ticks\":\"\"}},\"type\":\"scattermapbox\"}],\"scatterpolar\":[{\"marker\":{\"colorbar\":{\"outlinewidth\":0,\"ticks\":\"\"}},\"type\":\"scatterpolar\"}],\"scatterpolargl\":[{\"marker\":{\"colorbar\":{\"outlinewidth\":0,\"ticks\":\"\"}},\"type\":\"scatterpolargl\"}],\"scatterternary\":[{\"marker\":{\"colorbar\":{\"outlinewidth\":0,\"ticks\":\"\"}},\"type\":\"scatterternary\"}],\"surface\":[{\"colorbar\":{\"outlinewidth\":0,\"ticks\":\"\"},\"colorscale\":[[0.0,\"#0d0887\"],[0.1111111111111111,\"#46039f\"],[0.2222222222222222,\"#7201a8\"],[0.3333333333333333,\"#9c179e\"],[0.4444444444444444,\"#bd3786\"],[0.5555555555555556,\"#d8576b\"],[0.6666666666666666,\"#ed7953\"],[0.7777777777777778,\"#fb9f3a\"],[0.8888888888888888,\"#fdca26\"],[1.0,\"#f0f921\"]],\"type\":\"surface\"}],\"table\":[{\"cells\":{\"fill\":{\"color\":\"#EBF0F8\"},\"line\":{\"color\":\"white\"}},\"header\":{\"fill\":{\"color\":\"#C8D4E3\"},\"line\":{\"color\":\"white\"}},\"type\":\"table\"}]},\"layout\":{\"annotationdefaults\":{\"arrowcolor\":\"#2a3f5f\",\"arrowhead\":0,\"arrowwidth\":1},\"autotypenumbers\":\"strict\",\"coloraxis\":{\"colorbar\":{\"outlinewidth\":0,\"ticks\":\"\"}},\"colorscale\":{\"diverging\":[[0,\"#8e0152\"],[0.1,\"#c51b7d\"],[0.2,\"#de77ae\"],[0.3,\"#f1b6da\"],[0.4,\"#fde0ef\"],[0.5,\"#f7f7f7\"],[0.6,\"#e6f5d0\"],[0.7,\"#b8e186\"],[0.8,\"#7fbc41\"],[0.9,\"#4d9221\"],[1,\"#276419\"]],\"sequential\":[[0.0,\"#0d0887\"],[0.1111111111111111,\"#46039f\"],[0.2222222222222222,\"#7201a8\"],[0.3333333333333333,\"#9c179e\"],[0.4444444444444444,\"#bd3786\"],[0.5555555555555556,\"#d8576b\"],[0.6666666666666666,\"#ed7953\"],[0.7777777777777778,\"#fb9f3a\"],[0.8888888888888888,\"#fdca26\"],[1.0,\"#f0f921\"]],\"sequentialminus\":[[0.0,\"#0d0887\"],[0.1111111111111111,\"#46039f\"],[0.2222222222222222,\"#7201a8\"],[0.3333333333333333,\"#9c179e\"],[0.4444444444444444,\"#bd3786\"],[0.5555555555555556,\"#d8576b\"],[0.6666666666666666,\"#ed7953\"],[0.7777777777777778,\"#fb9f3a\"],[0.8888888888888888,\"#fdca26\"],[1.0,\"#f0f921\"]]},\"colorway\":[\"#636efa\",\"#EF553B\",\"#00cc96\",\"#ab63fa\",\"#FFA15A\",\"#19d3f3\",\"#FF6692\",\"#B6E880\",\"#FF97FF\",\"#FECB52\"],\"font\":{\"color\":\"#2a3f5f\"},\"geo\":{\"bgcolor\":\"white\",\"lakecolor\":\"white\",\"landcolor\":\"#E5ECF6\",\"showlakes\":true,\"showland\":true,\"subunitcolor\":\"white\"},\"hoverlabel\":{\"align\":\"left\"},\"hovermode\":\"closest\",\"mapbox\":{\"style\":\"light\"},\"paper_bgcolor\":\"white\",\"plot_bgcolor\":\"#E5ECF6\",\"polar\":{\"angularaxis\":{\"gridcolor\":\"white\",\"linecolor\":\"white\",\"ticks\":\"\"},\"bgcolor\":\"#E5ECF6\",\"radialaxis\":{\"gridcolor\":\"white\",\"linecolor\":\"white\",\"ticks\":\"\"}},\"scene\":{\"xaxis\":{\"backgroundcolor\":\"#E5ECF6\",\"gridcolor\":\"white\",\"gridwidth\":2,\"linecolor\":\"white\",\"showbackground\":true,\"ticks\":\"\",\"zerolinecolor\":\"white\"},\"yaxis\":{\"backgroundcolor\":\"#E5ECF6\",\"gridcolor\":\"white\",\"gridwidth\":2,\"linecolor\":\"white\",\"showbackground\":true,\"ticks\":\"\",\"zerolinecolor\":\"white\"},\"zaxis\":{\"backgroundcolor\":\"#E5ECF6\",\"gridcolor\":\"white\",\"gridwidth\":2,\"linecolor\":\"white\",\"showbackground\":true,\"ticks\":\"\",\"zerolinecolor\":\"white\"}},\"shapedefaults\":{\"line\":{\"color\":\"#2a3f5f\"}},\"ternary\":{\"aaxis\":{\"gridcolor\":\"white\",\"linecolor\":\"white\",\"ticks\":\"\"},\"baxis\":{\"gridcolor\":\"white\",\"linecolor\":\"white\",\"ticks\":\"\"},\"bgcolor\":\"#E5ECF6\",\"caxis\":{\"gridcolor\":\"white\",\"linecolor\":\"white\",\"ticks\":\"\"}},\"title\":{\"x\":0.05},\"xaxis\":{\"automargin\":true,\"gridcolor\":\"white\",\"linecolor\":\"white\",\"ticks\":\"\",\"title\":{\"standoff\":15},\"zerolinecolor\":\"white\",\"zerolinewidth\":2},\"yaxis\":{\"automargin\":true,\"gridcolor\":\"white\",\"linecolor\":\"white\",\"ticks\":\"\",\"title\":{\"standoff\":15},\"zerolinecolor\":\"white\",\"zerolinewidth\":2}}},\"xaxis\":{\"anchor\":\"y\",\"domain\":[0.0,1.0],\"title\":{\"text\":\"GDP\"},\"type\":\"log\"},\"yaxis\":{\"anchor\":\"x\",\"domain\":[0.0,1.0],\"title\":{\"text\":\"Life Expectancy\"}},\"legend\":{\"title\":{\"text\":\"Continent\"},\"tracegroupgap\":0,\"itemsizing\":\"constant\"},\"title\":{\"text\":\"4D Visualization of Life and World Economics Condition\"},\"height\":600,\"width\":800},                        {\"responsive\": true}                    ).then(function(){\n",
       "                            \n",
       "var gd = document.getElementById('dfa3ec43-ab46-4027-afad-968de4d9cde7');\n",
       "var x = new MutationObserver(function (mutations, observer) {{\n",
       "        var display = window.getComputedStyle(gd).display;\n",
       "        if (!display || display === 'none') {{\n",
       "            console.log([gd, 'removed!']);\n",
       "            Plotly.purge(gd);\n",
       "            observer.disconnect();\n",
       "        }}\n",
       "}});\n",
       "\n",
       "// Listen for the removal of the full notebook cells\n",
       "var notebookContainer = gd.closest('#notebook-container');\n",
       "if (notebookContainer) {{\n",
       "    x.observe(notebookContainer, {childList: true});\n",
       "}}\n",
       "\n",
       "// Listen for the clearing of the current output cell\n",
       "var outputEl = gd.closest('.output');\n",
       "if (outputEl) {{\n",
       "    x.observe(outputEl, {childList: true});\n",
       "}}\n",
       "\n",
       "                        })                };                });            </script>        </div>"
      ]
     },
     "metadata": {},
     "output_type": "display_data"
    }
   ],
   "source": [
    "to_bubble = df[[\"Country\",\"Life Expectancy\", \"GDP\", \"Population\", \"Continent\"]]\n",
    "to_bubble.dropna(inplace = True)\n",
    "\n",
    "df = px.data.gapminder()\n",
    "\n",
    "fig = px.scatter(to_bubble, x=\"GDP\", y=\"Life Expectancy\",\n",
    "                 size=\"Population\", color=\"Continent\",\n",
    "                 hover_name=\"Country\", log_x=True, size_max=50,\n",
    "                 width=800, height=600,\n",
    "                title=\"4D Visualization of Life and World Economics Condition\")\n",
    "fig.show()"
   ]
  },
  {
   "cell_type": "markdown",
   "id": "bdaa297b",
   "metadata": {},
   "source": [
    "# Final Visualization"
   ]
  },
  {
   "cell_type": "markdown",
   "id": "328322cc",
   "metadata": {},
   "source": [
    "<img src=\"newplot.png\" alt=\"Alternative text\" />"
   ]
  },
  {
   "cell_type": "code",
   "execution_count": null,
   "id": "bb200fa2",
   "metadata": {},
   "outputs": [],
   "source": []
  }
 ],
 "metadata": {
  "kernelspec": {
   "display_name": "Python 3 (ipykernel)",
   "language": "python",
   "name": "python3"
  },
  "language_info": {
   "codemirror_mode": {
    "name": "ipython",
    "version": 3
   },
   "file_extension": ".py",
   "mimetype": "text/x-python",
   "name": "python",
   "nbconvert_exporter": "python",
   "pygments_lexer": "ipython3",
   "version": "3.9.12"
  }
 },
 "nbformat": 4,
 "nbformat_minor": 5
}
